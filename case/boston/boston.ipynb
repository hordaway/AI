{
 "cells": [
  {
   "cell_type": "code",
   "execution_count": 1,
   "metadata": {},
   "outputs": [
    {
     "name": "stdout",
     "output_type": "stream",
     "text": [
      "2.3.0\n"
     ]
    }
   ],
   "source": [
    "import tensorflow as tf\n",
    "from sklearn.model_selection import train_test_split\n",
    "from sklearn.model_selection import validation_curve\n",
    "from sklearn.utils import shuffle\n",
    "from sklearn.preprocessing import scale\n",
    "from sklearn.datasets import load_boston\n",
    "import numpy  as np\n",
    "import pandas as pd\n",
    "import matplotlib.pyplot as plt\n",
    "%matplotlib inline\n",
    "print (tf.__version__)"
   ]
  },
  {
   "cell_type": "markdown",
   "metadata": {},
   "source": [
    "1.生成数据集"
   ]
  },
  {
   "cell_type": "code",
   "execution_count": 2,
   "metadata": {},
   "outputs": [],
   "source": [
    "def normalize_feature(df):\n",
    "    \"\"\"\n",
    "    PS : 要求传入的df是连续性变量\n",
    "    \n",
    "    Applies function along input axis(default 0) of DataFrame\n",
    "    标准化方法有多种：\n",
    "    归一化Max-Min\n",
    "    实现中心化Z-Score\n",
    "    用于稀疏数据的MaxAbs\n",
    "    针对离群点的RobustScaler\n",
    "    \n",
    "    \"\"\"\n",
    "    return df.apply(lambda column: (column - column.mean()) / column.std())#特征缩放 z-score 标准化(zero-mean normalization)"
   ]
  },
  {
   "cell_type": "code",
   "execution_count": 3,
   "metadata": {},
   "outputs": [],
   "source": [
    "dataset = load_boston()\n",
    "dataset \n",
    "X = dataset.data\n",
    "y = dataset.target\n",
    "features = dataset.feature_names"
   ]
  },
  {
   "cell_type": "code",
   "execution_count": 4,
   "metadata": {},
   "outputs": [
    {
     "data": {
      "text/html": [
       "<div>\n",
       "<style scoped>\n",
       "    .dataframe tbody tr th:only-of-type {\n",
       "        vertical-align: middle;\n",
       "    }\n",
       "\n",
       "    .dataframe tbody tr th {\n",
       "        vertical-align: top;\n",
       "    }\n",
       "\n",
       "    .dataframe thead th {\n",
       "        text-align: right;\n",
       "    }\n",
       "</style>\n",
       "<table border=\"1\" class=\"dataframe\">\n",
       "  <thead>\n",
       "    <tr style=\"text-align: right;\">\n",
       "      <th></th>\n",
       "      <th>CRIM</th>\n",
       "      <th>ZN</th>\n",
       "      <th>INDUS</th>\n",
       "      <th>CHAS</th>\n",
       "      <th>NOX</th>\n",
       "      <th>RM</th>\n",
       "      <th>AGE</th>\n",
       "      <th>DIS</th>\n",
       "      <th>RAD</th>\n",
       "      <th>TAX</th>\n",
       "      <th>PTRATIO</th>\n",
       "      <th>B</th>\n",
       "      <th>LSTAT</th>\n",
       "    </tr>\n",
       "  </thead>\n",
       "  <tbody>\n",
       "    <tr>\n",
       "      <th>count</th>\n",
       "      <td>506.000000</td>\n",
       "      <td>506.000000</td>\n",
       "      <td>506.000000</td>\n",
       "      <td>506.000000</td>\n",
       "      <td>506.000000</td>\n",
       "      <td>506.000000</td>\n",
       "      <td>506.000000</td>\n",
       "      <td>506.000000</td>\n",
       "      <td>506.000000</td>\n",
       "      <td>506.000000</td>\n",
       "      <td>506.000000</td>\n",
       "      <td>506.000000</td>\n",
       "      <td>506.000000</td>\n",
       "    </tr>\n",
       "    <tr>\n",
       "      <th>mean</th>\n",
       "      <td>3.613524</td>\n",
       "      <td>11.363636</td>\n",
       "      <td>11.136779</td>\n",
       "      <td>0.069170</td>\n",
       "      <td>0.554695</td>\n",
       "      <td>6.284634</td>\n",
       "      <td>68.574901</td>\n",
       "      <td>3.795043</td>\n",
       "      <td>9.549407</td>\n",
       "      <td>408.237154</td>\n",
       "      <td>18.455534</td>\n",
       "      <td>356.674032</td>\n",
       "      <td>12.653063</td>\n",
       "    </tr>\n",
       "    <tr>\n",
       "      <th>std</th>\n",
       "      <td>8.601545</td>\n",
       "      <td>23.322453</td>\n",
       "      <td>6.860353</td>\n",
       "      <td>0.253994</td>\n",
       "      <td>0.115878</td>\n",
       "      <td>0.702617</td>\n",
       "      <td>28.148861</td>\n",
       "      <td>2.105710</td>\n",
       "      <td>8.707259</td>\n",
       "      <td>168.537116</td>\n",
       "      <td>2.164946</td>\n",
       "      <td>91.294864</td>\n",
       "      <td>7.141062</td>\n",
       "    </tr>\n",
       "    <tr>\n",
       "      <th>min</th>\n",
       "      <td>0.006320</td>\n",
       "      <td>0.000000</td>\n",
       "      <td>0.460000</td>\n",
       "      <td>0.000000</td>\n",
       "      <td>0.385000</td>\n",
       "      <td>3.561000</td>\n",
       "      <td>2.900000</td>\n",
       "      <td>1.129600</td>\n",
       "      <td>1.000000</td>\n",
       "      <td>187.000000</td>\n",
       "      <td>12.600000</td>\n",
       "      <td>0.320000</td>\n",
       "      <td>1.730000</td>\n",
       "    </tr>\n",
       "    <tr>\n",
       "      <th>25%</th>\n",
       "      <td>0.082045</td>\n",
       "      <td>0.000000</td>\n",
       "      <td>5.190000</td>\n",
       "      <td>0.000000</td>\n",
       "      <td>0.449000</td>\n",
       "      <td>5.885500</td>\n",
       "      <td>45.025000</td>\n",
       "      <td>2.100175</td>\n",
       "      <td>4.000000</td>\n",
       "      <td>279.000000</td>\n",
       "      <td>17.400000</td>\n",
       "      <td>375.377500</td>\n",
       "      <td>6.950000</td>\n",
       "    </tr>\n",
       "    <tr>\n",
       "      <th>50%</th>\n",
       "      <td>0.256510</td>\n",
       "      <td>0.000000</td>\n",
       "      <td>9.690000</td>\n",
       "      <td>0.000000</td>\n",
       "      <td>0.538000</td>\n",
       "      <td>6.208500</td>\n",
       "      <td>77.500000</td>\n",
       "      <td>3.207450</td>\n",
       "      <td>5.000000</td>\n",
       "      <td>330.000000</td>\n",
       "      <td>19.050000</td>\n",
       "      <td>391.440000</td>\n",
       "      <td>11.360000</td>\n",
       "    </tr>\n",
       "    <tr>\n",
       "      <th>75%</th>\n",
       "      <td>3.677083</td>\n",
       "      <td>12.500000</td>\n",
       "      <td>18.100000</td>\n",
       "      <td>0.000000</td>\n",
       "      <td>0.624000</td>\n",
       "      <td>6.623500</td>\n",
       "      <td>94.075000</td>\n",
       "      <td>5.188425</td>\n",
       "      <td>24.000000</td>\n",
       "      <td>666.000000</td>\n",
       "      <td>20.200000</td>\n",
       "      <td>396.225000</td>\n",
       "      <td>16.955000</td>\n",
       "    </tr>\n",
       "    <tr>\n",
       "      <th>max</th>\n",
       "      <td>88.976200</td>\n",
       "      <td>100.000000</td>\n",
       "      <td>27.740000</td>\n",
       "      <td>1.000000</td>\n",
       "      <td>0.871000</td>\n",
       "      <td>8.780000</td>\n",
       "      <td>100.000000</td>\n",
       "      <td>12.126500</td>\n",
       "      <td>24.000000</td>\n",
       "      <td>711.000000</td>\n",
       "      <td>22.000000</td>\n",
       "      <td>396.900000</td>\n",
       "      <td>37.970000</td>\n",
       "    </tr>\n",
       "  </tbody>\n",
       "</table>\n",
       "</div>"
      ],
      "text/plain": [
       "             CRIM          ZN       INDUS        CHAS         NOX          RM  \\\n",
       "count  506.000000  506.000000  506.000000  506.000000  506.000000  506.000000   \n",
       "mean     3.613524   11.363636   11.136779    0.069170    0.554695    6.284634   \n",
       "std      8.601545   23.322453    6.860353    0.253994    0.115878    0.702617   \n",
       "min      0.006320    0.000000    0.460000    0.000000    0.385000    3.561000   \n",
       "25%      0.082045    0.000000    5.190000    0.000000    0.449000    5.885500   \n",
       "50%      0.256510    0.000000    9.690000    0.000000    0.538000    6.208500   \n",
       "75%      3.677083   12.500000   18.100000    0.000000    0.624000    6.623500   \n",
       "max     88.976200  100.000000   27.740000    1.000000    0.871000    8.780000   \n",
       "\n",
       "              AGE         DIS         RAD         TAX     PTRATIO           B  \\\n",
       "count  506.000000  506.000000  506.000000  506.000000  506.000000  506.000000   \n",
       "mean    68.574901    3.795043    9.549407  408.237154   18.455534  356.674032   \n",
       "std     28.148861    2.105710    8.707259  168.537116    2.164946   91.294864   \n",
       "min      2.900000    1.129600    1.000000  187.000000   12.600000    0.320000   \n",
       "25%     45.025000    2.100175    4.000000  279.000000   17.400000  375.377500   \n",
       "50%     77.500000    3.207450    5.000000  330.000000   19.050000  391.440000   \n",
       "75%     94.075000    5.188425   24.000000  666.000000   20.200000  396.225000   \n",
       "max    100.000000   12.126500   24.000000  711.000000   22.000000  396.900000   \n",
       "\n",
       "            LSTAT  \n",
       "count  506.000000  \n",
       "mean    12.653063  \n",
       "std      7.141062  \n",
       "min      1.730000  \n",
       "25%      6.950000  \n",
       "50%     11.360000  \n",
       "75%     16.955000  \n",
       "max     37.970000  "
      ]
     },
     "execution_count": 4,
     "metadata": {},
     "output_type": "execute_result"
    }
   ],
   "source": [
    "dx = pd.DataFrame(X,columns=features)\n",
    "dx.describe()"
   ]
  },
  {
   "cell_type": "code",
   "execution_count": 5,
   "metadata": {},
   "outputs": [],
   "source": [
    "X_data,X_test,y_data,y_test = train_test_split(normalize_feature(dx),y,test_size=0.2,random_state=13)\n",
    "X_train,X_valid,y_train,y_valid = train_test_split(X_data,y_data,test_size=0.2,random_state=13)\n",
    "\n",
    "X_train = tf.cast(X_train,dtype=tf.float32)\n",
    "X_valid = tf.cast(X_valid,dtype=tf.float32)\n",
    "X_test = tf.cast(X_test,dtype=tf.float32)"
   ]
  },
  {
   "cell_type": "code",
   "execution_count": 6,
   "metadata": {},
   "outputs": [
    {
     "data": {
      "text/plain": [
       "TensorShape([102, 13])"
      ]
     },
     "execution_count": 6,
     "metadata": {},
     "output_type": "execute_result"
    }
   ],
   "source": [
    "X_train.shape\n",
    "X_valid.shape\n",
    "X_test.shape"
   ]
  },
  {
   "cell_type": "code",
   "execution_count": 7,
   "metadata": {},
   "outputs": [],
   "source": [
    "def model(x,w,b): \n",
    "    return tf.matmul(x,w)+b\n",
    "    \n",
    "def loss(x,y,w,b):\n",
    "    err = model(x,w,b) - y\n",
    "    s = tf.reduce_mean(tf.square(err))\n",
    "    return s\n",
    "    \n",
    "def grad(x,y,w,b):\n",
    "    with tf.GradientTape() as tape: \n",
    "        return tape.gradient(loss(x,y,w,b),[w,b])\n",
    "\n"
   ]
  },
  {
   "cell_type": "code",
   "execution_count": 8,
   "metadata": {},
   "outputs": [],
   "source": [
    "w = tf.Variable(tf.random.normal([13,1],mean=0,stddev=1,seed=7),dtype=tf.float32)  \n",
    "b = tf.Variable(tf.random.normal([1,1],mean=0,stddev=1,seed=7),dtype=tf.float32)\n",
    "lr = 0.001\n",
    "optimizer = tf.keras.optimizers.SGD(lr)"
   ]
  },
  {
   "cell_type": "code",
   "execution_count": 10,
   "metadata": {},
   "outputs": [
    {
     "name": "stdout",
     "output_type": "stream",
     "text": [
      "20\n",
      "epoch=  1,train_loss=500.993561,valid_loss=451.190674\n",
      "epoch=  2,train_loss=468.712006,valid_loss=421.801666\n",
      "epoch=  3,train_loss=438.992188,valid_loss=394.650665\n",
      "epoch=  4,train_loss=411.612183,valid_loss=369.569489\n",
      "epoch=  5,train_loss=386.376221,valid_loss=346.404968\n",
      "epoch=  6,train_loss=363.109344,valid_loss=325.016296\n",
      "epoch=  7,train_loss=341.653564,valid_loss=305.272827\n",
      "epoch=  8,train_loss=321.865112,valid_loss=287.053070\n",
      "epoch=  9,train_loss=303.612732,valid_loss=270.244049\n",
      "epoch= 10,train_loss=286.776031,valid_loss=254.740280\n",
      "epoch= 11,train_loss=271.244324,valid_loss=240.443649\n",
      "epoch= 12,train_loss=256.916016,valid_loss=227.262970\n",
      "epoch= 13,train_loss=243.697388,valid_loss=215.113449\n",
      "epoch= 14,train_loss=231.502014,valid_loss=203.916321\n",
      "epoch= 15,train_loss=220.250397,valid_loss=193.598557\n",
      "epoch= 16,train_loss=209.869049,valid_loss=184.092407\n",
      "epoch= 17,train_loss=200.290466,valid_loss=175.335434\n",
      "epoch= 18,train_loss=191.452194,valid_loss=167.269440\n",
      "epoch= 19,train_loss=183.296692,valid_loss=159.840881\n",
      "epoch= 20,train_loss=175.770950,valid_loss=153.000259\n",
      "epoch= 21,train_loss=168.826080,valid_loss=146.701782\n",
      "epoch= 22,train_loss=162.416931,valid_loss=140.903122\n",
      "epoch= 23,train_loss=156.501862,valid_loss=135.565201\n",
      "epoch= 24,train_loss=151.042511,valid_loss=130.652023\n",
      "epoch= 25,train_loss=146.003601,valid_loss=126.130356\n",
      "epoch= 26,train_loss=141.352402,valid_loss=121.969460\n",
      "epoch= 27,train_loss=137.058884,valid_loss=118.141060\n",
      "epoch= 28,train_loss=133.095322,valid_loss=114.619057\n",
      "epoch= 29,train_loss=129.436050,valid_loss=111.379288\n",
      "epoch= 30,train_loss=126.057587,valid_loss=108.399673\n",
      "epoch= 31,train_loss=122.938148,valid_loss=105.659653\n",
      "epoch= 32,train_loss=120.057701,valid_loss=103.140434\n",
      "epoch= 33,train_loss=117.397720,valid_loss=100.824532\n",
      "epoch= 34,train_loss=114.941154,valid_loss=98.695923\n",
      "epoch= 35,train_loss=112.672302,valid_loss=96.739830\n",
      "epoch= 36,train_loss=110.576569,valid_loss=94.942558\n",
      "epoch= 37,train_loss=108.640610,valid_loss=93.291550\n",
      "epoch= 38,train_loss=106.852150,valid_loss=91.775284\n",
      "epoch= 39,train_loss=105.199753,valid_loss=90.383034\n",
      "epoch= 40,train_loss=103.672935,valid_loss=89.104958\n",
      "epoch= 41,train_loss=102.262001,valid_loss=87.931976\n",
      "epoch= 42,train_loss=100.957977,valid_loss=86.855698\n",
      "epoch= 43,train_loss=99.752678,valid_loss=85.868454\n",
      "epoch= 44,train_loss=98.638519,valid_loss=84.963150\n",
      "epoch= 45,train_loss=97.608467,valid_loss=84.133247\n",
      "epoch= 46,train_loss=96.656059,valid_loss=83.372711\n",
      "epoch= 47,train_loss=95.775307,valid_loss=82.675957\n",
      "epoch= 48,train_loss=94.960747,valid_loss=82.037903\n",
      "epoch= 49,train_loss=94.207314,valid_loss=81.453827\n",
      "epoch= 50,train_loss=93.510277,valid_loss=80.919373\n",
      "epoch= 51,train_loss=92.865341,valid_loss=80.430557\n",
      "epoch= 52,train_loss=92.268486,valid_loss=79.983673\n",
      "epoch= 53,train_loss=91.716087,valid_loss=79.575348\n",
      "epoch= 54,train_loss=91.204727,valid_loss=79.202454\n",
      "epoch= 55,train_loss=90.731262,valid_loss=78.862091\n",
      "epoch= 56,train_loss=90.292831,valid_loss=78.551651\n",
      "epoch= 57,train_loss=89.886749,valid_loss=78.268654\n",
      "epoch= 58,train_loss=89.510536,valid_loss=78.010849\n",
      "epoch= 59,train_loss=89.161957,valid_loss=77.776207\n",
      "epoch= 60,train_loss=88.838898,valid_loss=77.562782\n",
      "epoch= 61,train_loss=88.539391,valid_loss=77.368835\n",
      "epoch= 62,train_loss=88.261688,valid_loss=77.192764\n",
      "epoch= 63,train_loss=88.004158,valid_loss=77.033073\n",
      "epoch= 64,train_loss=87.765236,valid_loss=76.888397\n",
      "epoch= 65,train_loss=87.543518,valid_loss=76.757477\n",
      "epoch= 66,train_loss=87.337730,valid_loss=76.639153\n",
      "epoch= 67,train_loss=87.146667,valid_loss=76.532387\n",
      "epoch= 68,train_loss=86.969223,valid_loss=76.436165\n",
      "epoch= 69,train_loss=86.804359,valid_loss=76.349617\n",
      "epoch= 70,train_loss=86.651169,valid_loss=76.271912\n",
      "epoch= 71,train_loss=86.508736,valid_loss=76.202263\n",
      "epoch= 72,train_loss=86.376289,valid_loss=76.140015\n",
      "epoch= 73,train_loss=86.253082,valid_loss=76.084496\n",
      "epoch= 74,train_loss=86.138428,valid_loss=76.035133\n",
      "epoch= 75,train_loss=86.031677,valid_loss=75.991371\n",
      "epoch= 76,train_loss=85.932281,valid_loss=75.952721\n",
      "epoch= 77,train_loss=85.839645,valid_loss=75.918747\n",
      "epoch= 78,train_loss=85.753319,valid_loss=75.888985\n",
      "epoch= 79,train_loss=85.672813,valid_loss=75.863091\n",
      "epoch= 80,train_loss=85.597694,valid_loss=75.840691\n",
      "epoch= 81,train_loss=85.527603,valid_loss=75.821480\n",
      "epoch= 82,train_loss=85.462143,valid_loss=75.805138\n",
      "epoch= 83,train_loss=85.400970,valid_loss=75.791420\n",
      "epoch= 84,train_loss=85.343803,valid_loss=75.780052\n",
      "epoch= 85,train_loss=85.290344,valid_loss=75.770821\n",
      "epoch= 86,train_loss=85.240311,valid_loss=75.763519\n",
      "epoch= 87,train_loss=85.193474,valid_loss=75.757957\n",
      "epoch= 88,train_loss=85.149597,valid_loss=75.753960\n",
      "epoch= 89,train_loss=85.108475,valid_loss=75.751358\n",
      "epoch= 90,train_loss=85.069893,valid_loss=75.750008\n",
      "epoch= 91,train_loss=85.033714,valid_loss=75.749794\n",
      "epoch= 92,train_loss=84.999725,valid_loss=75.750580\n",
      "epoch= 93,train_loss=84.967796,valid_loss=75.752258\n",
      "epoch= 94,train_loss=84.937782,valid_loss=75.754723\n",
      "epoch= 95,train_loss=84.909523,valid_loss=75.757889\n",
      "epoch= 96,train_loss=84.882935,valid_loss=75.761673\n",
      "epoch= 97,train_loss=84.857910,valid_loss=75.766006\n",
      "epoch= 98,train_loss=84.834305,valid_loss=75.770798\n",
      "epoch= 99,train_loss=84.812050,valid_loss=75.775993\n",
      "epoch=100,train_loss=84.791023,valid_loss=75.781548\n"
     ]
    }
   ],
   "source": [
    "loss_list_train = []\n",
    "loss_list_valid = []\n",
    "batch_size = 16\n",
    "total_step = int(X_train.shape[0]/batch_size)\n",
    "print (total_step)\n",
    "epochs = 100\n",
    "\n",
    "for epoch in range(epochs):\n",
    "    for step in range(total_step):\n",
    "        xs = X_train[step*batch_size:(step+1)*batch_size]\n",
    "        ys = y_train[step*batch_size:(step+1)*batch_size]\n",
    "        grads = grad(xs,ys,w,b)\n",
    "        optimizer.apply_gradients(zip(grads,[w,b]))\n",
    "    loss_train = loss(X_train,y_train,w,b).numpy()\n",
    "    loss_valid = loss(X_valid,y_valid,w,b).numpy()\n",
    "    loss_list_train.append(loss_train)\n",
    "    loss_list_valid.append(loss_valid)\n",
    "    print (\"epoch={:3d},train_loss={:4f},valid_loss={:4f}\".format(epoch+1,loss_train,loss_valid))\n",
    "\n"
   ]
  },
  {
   "cell_type": "code",
   "execution_count": 11,
   "metadata": {},
   "outputs": [
    {
     "name": "stdout",
     "output_type": "stream",
     "text": [
      "[[ 0.00469626]\n",
      " [-0.33939725]\n",
      " [ 0.2602719 ]\n",
      " [-0.06893858]\n",
      " [-0.2946791 ]\n",
      " [ 0.47143573]\n",
      " [-0.08619058]\n",
      " [ 0.21416613]\n",
      " [ 0.62937766]\n",
      " [-0.44227645]\n",
      " [-0.43048158]\n",
      " [ 0.45248848]\n",
      " [ 0.3203115 ]]\n",
      "[[22.50589]]\n"
     ]
    }
   ],
   "source": [
    "print (w.numpy())\n",
    "print (b.numpy())"
   ]
  },
  {
   "cell_type": "code",
   "execution_count": 13,
   "metadata": {},
   "outputs": [
    {
     "data": {
      "text/plain": [
       "<matplotlib.legend.Legend at 0x2c01160cbc8>"
      ]
     },
     "execution_count": 13,
     "metadata": {},
     "output_type": "execute_result"
    },
    {
     "data": {
      "image/png": "[encoded data removed]",
      "text/plain": [
       "<Figure size 432x288 with 1 Axes>"
      ]
     },
     "metadata": {
      "needs_background": "light"
     },
     "output_type": "display_data"
    }
   ],
   "source": [
    "plt.xlabel(\"Epochs\")\n",
    "plt.ylabel(\"Loss\")\n",
    "plt.plot(loss_list_train,'blue',label='Train loss')\n",
    "plt.plot(loss_list_valid,'red',label='Valid loss')\n",
    "plt.legend(loc=1)"
   ]
  },
  {
   "cell_type": "code",
   "execution_count": 30,
   "metadata": {},
   "outputs": [
    {
     "name": "stdout",
     "output_type": "stream",
     "text": [
      "Test loss : 91.894791\n"
     ]
    }
   ],
   "source": [
    "print(\"Test loss : {:f}\".format(loss(X_test,y_test,w,b).numpy()))"
   ]
  },
  {
   "cell_type": "code",
   "execution_count": 32,
   "metadata": {},
   "outputs": [
    {
     "name": "stdout",
     "output_type": "stream",
     "text": [
      "House id 33,Actual value is 22.000000,Predicted is :22.499157\n"
     ]
    }
   ],
   "source": [
    "test_house_id = np.random.randint(0,X_test.shape[0])\n",
    "y = y_test[test_house_id]\n",
    "y_pred = tf.reshape(model(X_test,w,b)[test_house_id],()).numpy()\n",
    "print (\"House id {:d},Actual value is {:f},Predicted is :{:f}\".format(test_house_id,y,y_pred))\n",
    "\n"
   ]
  }
 ],
 "metadata": {
  "kernelspec": {
   "display_name": "tensorflow2-gpu",
   "language": "python",
   "name": "tensorflow2-gpu"
  },
  "language_info": {
   "codemirror_mode": {
    "name": "ipython",
    "version": 3
   },
   "file_extension": ".py",
   "mimetype": "text/x-python",
   "name": "python",
   "nbconvert_exporter": "python",
   "pygments_lexer": "ipython3",
   "version": "3.7.9"
  }
 },
 "nbformat": 4,
 "nbformat_minor": 4
}
