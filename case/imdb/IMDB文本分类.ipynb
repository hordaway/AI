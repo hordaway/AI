{
 "cells": [
  {
   "cell_type": "code",
   "execution_count": 3,
   "metadata": {},
   "outputs": [],
   "source": [
    "import  tensorflow as tf\n",
    "import matplotlib.pyplot as plt\n",
    "from tensorflow.keras import layers"
   ]
  },
  {
   "cell_type": "code",
   "execution_count": 4,
   "metadata": {},
   "outputs": [
    {
     "name": "stdout",
     "output_type": "stream",
     "text": [
      "(25000,)   (25000,)\n",
      "(25000,)   (25000,)\n",
      "(25000, 200)   (25000,)\n",
      "(25000, 200)   (25000,)\n"
     ]
    }
   ],
   "source": [
    "num_words = 30000\n",
    "maxlen = 200\n",
    "(x_train, y_train), (x_test, y_test) = tf.keras.datasets.imdb.load_data(num_words=num_words)\n",
    "x_train = tf.keras.preprocessing.sequence.pad_sequences(x_train, maxlen, padding='post')\n",
    "x_test = tf.keras.preprocessing.sequence.pad_sequences(x_test, maxlen, padding='post')"
   ]
  },
  {
   "cell_type": "code",
   "execution_count": 5,
   "metadata": {},
   "outputs": [
    {
     "name": "stdout",
     "output_type": "stream",
     "text": [
      "WARNING:tensorflow:Layer lstm_1 will not use cuDNN kernel since it doesn't meet the cuDNN kernel criteria. It will use generic GPU kernel as fallback when running on GPU\n",
      "Model: \"sequential\"\n",
      "_________________________________________________________________\n",
      "Layer (type)                 Output Shape              Param #   \n",
      "=================================================================\n",
      "embedding (Embedding)        (None, 200, 32)           960000    \n",
      "_________________________________________________________________\n",
      "lstm (LSTM)                  (None, 200, 32)           8320      \n",
      "_________________________________________________________________\n",
      "lstm_1 (LSTM)                (None, 1)                 136       \n",
      "=================================================================\n",
      "Total params: 968,456\n",
      "Trainable params: 968,456\n",
      "Non-trainable params: 0\n",
      "_________________________________________________________________\n"
     ]
    }
   ],
   "source": [
    "def lstm_model():\n",
    "    model = tf.keras.Sequential([\n",
    "        layers.Embedding(input_dim=30000, output_dim=32, input_length=maxlen), # input_dim是词典大小， output_dim是词嵌入维度\n",
    "        layers.LSTM(32, return_sequences=True),\n",
    "        layers.LSTM(1, activation='sigmoid', return_sequences=False)\n",
    "    ])\n",
    "    model.compile(optimizer=tf.keras.optimizers.Adam(),\n",
    "                 loss=tf.keras.losses.BinaryCrossentropy(),\n",
    "                 metrics=['accuracy'])\n",
    "    return model\n",
    "lstm_model = lstm_model()\n",
    "lstm_model.summary()"
   ]
  },
  {
   "cell_type": "code",
   "execution_count": 6,
   "metadata": {},
   "outputs": [
    {
     "name": "stdout",
     "output_type": "stream",
     "text": [
      "WARNING:tensorflow:Layer gru_1 will not use cuDNN kernel since it doesn't meet the cuDNN kernel criteria. It will use generic GPU kernel as fallback when running on GPU\n",
      "Model: \"sequential_1\"\n",
      "_________________________________________________________________\n",
      "Layer (type)                 Output Shape              Param #   \n",
      "=================================================================\n",
      "embedding_1 (Embedding)      (None, 200, 32)           960000    \n",
      "_________________________________________________________________\n",
      "gru (GRU)                    (None, 200, 32)           6336      \n",
      "_________________________________________________________________\n",
      "gru_1 (GRU)                  (None, 1)                 105       \n",
      "=================================================================\n",
      "Total params: 966,441\n",
      "Trainable params: 966,441\n",
      "Non-trainable params: 0\n",
      "_________________________________________________________________\n"
     ]
    }
   ],
   "source": [
    "def gru_model():\n",
    "    model = tf.keras.Sequential([\n",
    "        layers.Embedding(input_dim=30000, output_dim=32, input_length=maxlen),\n",
    "        layers.GRU(32, return_sequences=True),\n",
    "        layers.GRU(1, activation='sigmoid', return_sequences=False)\n",
    "    ])\n",
    "    model.compile(optimizer=tf.keras.optimizers.Adam(),\n",
    "                 loss=tf.keras.losses.BinaryCrossentropy(),\n",
    "                 metrics=['accuracy'])\n",
    "    return model\n",
    "gru_model = gru_model()\n",
    "gru_model.summary()"
   ]
  },
  {
   "cell_type": "code",
   "execution_count": 7,
   "metadata": {},
   "outputs": [
    {
     "name": "stdout",
     "output_type": "stream",
     "text": [
      "Epoch 1/10\n",
      "352/352 [==============================] - 124s 352ms/step - loss: 0.5806 - accuracy: 0.6767 - val_loss: 0.4089 - val_accuracy: 0.8328\n",
      "Epoch 2/10\n",
      "352/352 [==============================] - 124s 351ms/step - loss: 0.3769 - accuracy: 0.8632 - val_loss: 0.4007 - val_accuracy: 0.8468\n",
      "Epoch 3/10\n",
      "352/352 [==============================] - 124s 352ms/step - loss: 0.3378 - accuracy: 0.8839 - val_loss: 0.4104 - val_accuracy: 0.8372\n",
      "Epoch 4/10\n",
      "352/352 [==============================] - 124s 352ms/step - loss: 0.3343 - accuracy: 0.8900 - val_loss: 0.4519 - val_accuracy: 0.8184\n",
      "Epoch 5/10\n",
      "352/352 [==============================] - 124s 351ms/step - loss: 0.3617 - accuracy: 0.8641 - val_loss: 0.3965 - val_accuracy: 0.8552\n",
      "Epoch 6/10\n",
      "352/352 [==============================] - 123s 351ms/step - loss: 0.2514 - accuracy: 0.9238 - val_loss: 0.3921 - val_accuracy: 0.8604\n",
      "Epoch 7/10\n",
      "352/352 [==============================] - 123s 350ms/step - loss: 0.2852 - accuracy: 0.9004 - val_loss: 0.4141 - val_accuracy: 0.8396\n",
      "Epoch 8/10\n",
      "352/352 [==============================] - 123s 349ms/step - loss: 0.2119 - accuracy: 0.9291 - val_loss: 0.3862 - val_accuracy: 0.8544\n",
      "Epoch 9/10\n",
      "352/352 [==============================] - 123s 349ms/step - loss: 0.2036 - accuracy: 0.9373 - val_loss: 0.4274 - val_accuracy: 0.8452\n",
      "Epoch 10/10\n",
      "352/352 [==============================] - 123s 348ms/step - loss: 0.2336 - accuracy: 0.9182 - val_loss: 0.4068 - val_accuracy: 0.8532\n",
      "Wall time: 20min 39s\n"
     ]
    }
   ],
   "source": [
    "%%time\n",
    "historyLstm = lstm_model.fit(x_train, y_train, batch_size=64, epochs=10,validation_split=0.1)"
   ]
  },
  {
   "cell_type": "code",
   "execution_count": 8,
   "metadata": {},
   "outputs": [
    {
     "data": {
      "image/png": "[encoded data removed]",
      "text/plain": [
       "<Figure size 432x288 with 1 Axes>"
      ]
     },
     "metadata": {
      "needs_background": "light"
     },
     "output_type": "display_data"
    }
   ],
   "source": [
    "plt.plot(historyLstm.history['accuracy'])\n",
    "plt.plot(historyLstm.history['val_accuracy'])\n",
    "plt.legend(['training', 'valivation'], loc='upper left')\n",
    "plt.show()"
   ]
  },
  {
   "cell_type": "code",
   "execution_count": 7,
   "metadata": {},
   "outputs": [
    {
     "name": "stdout",
     "output_type": "stream",
     "text": [
      "Epoch 1/10\n",
      "352/352 [==============================] - 155s 441ms/step - loss: 0.5783 - accuracy: 0.6650 - val_loss: 0.4026 - val_accuracy: 0.8336\n",
      "Epoch 2/10\n",
      "352/352 [==============================] - 154s 438ms/step - loss: 0.3063 - accuracy: 0.8864 - val_loss: 0.3445 - val_accuracy: 0.8636\n",
      "Epoch 3/10\n",
      "352/352 [==============================] - 157s 445ms/step - loss: 0.1983 - accuracy: 0.9339 - val_loss: 0.3447 - val_accuracy: 0.8684\n",
      "Epoch 4/10\n",
      "352/352 [==============================] - 157s 445ms/step - loss: 0.1351 - accuracy: 0.9579 - val_loss: 0.3236 - val_accuracy: 0.8796\n",
      "Epoch 5/10\n",
      "352/352 [==============================] - 156s 444ms/step - loss: 0.0932 - accuracy: 0.9727 - val_loss: 0.3453 - val_accuracy: 0.8844\n",
      "Epoch 6/10\n",
      "352/352 [==============================] - 156s 442ms/step - loss: 0.0658 - accuracy: 0.9828 - val_loss: 0.4143 - val_accuracy: 0.8808\n",
      "Epoch 7/10\n",
      "352/352 [==============================] - 155s 440ms/step - loss: 0.0578 - accuracy: 0.9838 - val_loss: 0.4666 - val_accuracy: 0.8804\n",
      "Epoch 8/10\n",
      "352/352 [==============================] - 158s 450ms/step - loss: 0.0411 - accuracy: 0.9889 - val_loss: 0.5086 - val_accuracy: 0.8688\n",
      "Epoch 9/10\n",
      "352/352 [==============================] - 155s 441ms/step - loss: 0.0368 - accuracy: 0.9903 - val_loss: 0.5552 - val_accuracy: 0.8736\n",
      "Epoch 10/10\n",
      "352/352 [==============================] - 155s 440ms/step - loss: 0.0337 - accuracy: 0.9911 - val_loss: 0.5663 - val_accuracy: 0.8640\n",
      "Wall time: 26min 4s\n"
     ]
    }
   ],
   "source": [
    "%%time\n",
    "historyGru = gru_model.fit(x_train, y_train, batch_size=64, epochs=10,validation_split=0.1)"
   ]
  },
  {
   "cell_type": "code",
   "execution_count": 8,
   "metadata": {},
   "outputs": [
    {
     "data": {
      "image/png": "[encoded data removed]",
      "text/plain": [
       "<Figure size 432x288 with 1 Axes>"
      ]
     },
     "metadata": {
      "needs_background": "light"
     },
     "output_type": "display_data"
    }
   ],
   "source": [
    "plt.plot(historyGru.history['accuracy'])\n",
    "plt.plot(historyGru.history['val_accuracy'])\n",
    "plt.legend(['training', 'valivation'], loc='upper left')\n",
    "plt.show()"
   ]
  },
  {
   "cell_type": "code",
   "execution_count": null,
   "metadata": {},
   "outputs": [],
   "source": []
  },
  {
   "cell_type": "code",
   "execution_count": null,
   "metadata": {},
   "outputs": [],
   "source": []
  }
 ],
 "metadata": {
  "kernelspec": {
   "display_name": "tensorflow2-gpu",
   "language": "python",
   "name": "tensorflow2-gpu"
  },
  "language_info": {
   "codemirror_mode": {
    "name": "ipython",
    "version": 3
   },
   "file_extension": ".py",
   "mimetype": "text/x-python",
   "name": "python",
   "nbconvert_exporter": "python",
   "pygments_lexer": "ipython3",
   "version": "3.7.9"
  }
 },
 "nbformat": 4,
 "nbformat_minor": 4
}
