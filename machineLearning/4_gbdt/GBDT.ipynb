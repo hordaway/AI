{
 "cells": [
  {
   "cell_type": "code",
   "execution_count": 15,
   "metadata": {},
   "outputs": [],
   "source": [
    "from sklearn.datasets import load_boston\n",
    "from sklearn.model_selection import train_test_split\n",
    "from sklearn import ensemble\n",
    "\n",
    "\n",
    "from sklearn.metrics import mean_squared_error #均方误差\n",
    "from sklearn.metrics import mean_absolute_error #平方绝对误差\n",
    "from sklearn.metrics import r2_score#R square\n",
    "from sklearn.metrics import explained_variance_score\n",
    "\n",
    "from sklearn import  metrics\n",
    "from sklearn.model_selection import GridSearchCV\n",
    "from sklearn.model_selection import cross_validate\n",
    "import matplotlib.pylab as plt\n",
    "import pandas as pd\n",
    "import numpy as np\n",
    "%matplotlib inline\n"
   ]
  },
  {
   "cell_type": "code",
   "execution_count": 34,
   "metadata": {},
   "outputs": [
    {
     "name": "stdout",
     "output_type": "stream",
     "text": [
      "[2.08189703e-02 2.33559403e-04 3.13096132e-03 4.49215446e-05\n",
      " 2.66270276e-02 4.31748121e-01 7.14909561e-03 7.73415893e-02\n",
      " 1.91003111e-03 1.38719732e-02 3.05774288e-02 1.20406280e-02\n",
      " 3.74505693e-01]\n",
      "8.305079193350553\n"
     ]
    },
    {
     "data": {
      "text/plain": [
       "0.8973792214973438"
      ]
     },
     "execution_count": 34,
     "metadata": {},
     "output_type": "execute_result"
    }
   ],
   "source": [
    "\n",
    "# 加载sklearn自带的波士顿房价数据集\n",
    "dataset = load_boston()\n",
    "\n",
    "# 提取特征数据和目标数据\n",
    "X = dataset.data\n",
    "y = dataset.target\n",
    "\n",
    "\n",
    "# 将数据集以9:1的比例随机分为训练集和测试集，为了重现随机分配设置随机种子，即random_state参数\n",
    "X_train, X_test, y_train, y_test = train_test_split(X, y, train_size=0.9, test_size=0.1, random_state=188)\n",
    "\n",
    "# 实例化估计器对象\n",
    "params = {'n_estimators': 500, 'max_depth': 4, 'min_samples_split': 2,\n",
    "          'learning_rate': 0.01, 'loss': 'ls'}\n",
    "gbr = ensemble.GradientBoostingRegressor(**params)\n",
    "\n",
    "# 估计器拟合训练数据\n",
    "gbr.fit(X_train, y_train)\n",
    "\n",
    "# 训练完的估计器对测试数据进行预测\n",
    "y_pred = gbr.predict(X_test)\n",
    "\n",
    "# 输出特征重要性列表\n",
    "print(gbr.feature_importances_)\n",
    "print(mean_squared_error(y_test, y_pred))\n",
    "\n",
    "\n",
    "metrics.explained_variance_score(y_test, y_pred)\n",
    "#print (\"Accuracy : %.4g\" % metrics.accuracy_score(y.values, y_pred))\n",
    "#print (\"AUC Score (Train): %f\" % metrics.roc_auc_score(y, y_predprob))\n"
   ]
  },
  {
   "cell_type": "code",
   "execution_count": null,
   "metadata": {},
   "outputs": [],
   "source": []
  }
 ],
 "metadata": {
  "kernelspec": {
   "display_name": "tensorflow2-gpu",
   "language": "python",
   "name": "tensorflow2-gpu"
  },
  "language_info": {
   "codemirror_mode": {
    "name": "ipython",
    "version": 3
   },
   "file_extension": ".py",
   "mimetype": "text/x-python",
   "name": "python",
   "nbconvert_exporter": "python",
   "pygments_lexer": "ipython3",
   "version": "3.7.9"
  }
 },
 "nbformat": 4,
 "nbformat_minor": 4
}
